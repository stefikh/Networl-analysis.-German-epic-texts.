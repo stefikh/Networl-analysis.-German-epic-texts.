{
  "nbformat": 4,
  "nbformat_minor": 0,
  "metadata": {
    "colab": {
      "provenance": []
    },
    "kernelspec": {
      "name": "python3",
      "display_name": "Python 3"
    },
    "language_info": {
      "name": "python"
    }
  },
  "cells": [
    {
      "cell_type": "code",
      "source": [
        "import re"
      ],
      "metadata": {
        "id": "NtEAM9vcWJov"
      },
      "execution_count": null,
      "outputs": []
    },
    {
      "cell_type": "code",
      "source": [
        "characters = {}\n",
        "\n",
        "with open('characters_dict.txt', 'r') as f:\n",
        "\n",
        "  for line in f.read().splitlines():\n",
        "    line = line.replace(\"'\", \"\")\n",
        "    key, values = line.split(':')\n",
        "    key = key.strip()\n",
        "\n",
        "    values = [value.strip() for value in values[2:-2].split(',')]\n",
        "    characters[key] = values"
      ],
      "metadata": {
        "id": "Ge8x2qxI3mSC"
      },
      "execution_count": null,
      "outputs": []
    },
    {
      "cell_type": "code",
      "source": [
        "Constr = {}\n",
        "\n",
        "with open('all_constr_A.txt', 'r') as f:\n",
        "  for line in f.read().splitlines():\n",
        "    line = line.split('\\t')\n",
        "    Constr[line[0]] = line[1]"
      ],
      "metadata": {
        "id": "bZY-1kiI3mY4"
      },
      "execution_count": null,
      "outputs": []
    },
    {
      "cell_type": "code",
      "source": [
        "with open('Nibelungenlied_A.txt', 'r') as file:\n",
        "  lines = file.readlines()\n",
        "\n",
        "text_new = ''\n",
        "for line in lines:\n",
        "  line = line.replace('\\xa0', ' ')\n",
        "  for key, value in Constr.items():\n",
        "    if key in line:\n",
        "      line = line.replace(key, value)\n",
        "  text_new=text_new+line"
      ],
      "metadata": {
        "id": "x-VHdCWQZT0N"
      },
      "execution_count": null,
      "outputs": []
    },
    {
      "cell_type": "code",
      "source": [
        "lines = text_new.split('\\n')\n",
        "\n",
        "with open('Nibelungenlied_A_TEI.txt', 'w') as file:\n",
        "    for line in lines:\n",
        "      new = re.sub(r'[^\\w\\s]', '', line)\n",
        "      words = new.split()\n",
        "      for word in words:\n",
        "        flag = 0\n",
        "        if word in characters:\n",
        "          new = f'<rs ref=\"{word}\">{word}</rs>'\n",
        "          file.write(new+' ')\n",
        "          flag = 1\n",
        "        else:\n",
        "          for key, value in characters.items():\n",
        "            if word in value:\n",
        "              new = f'<rs ref=\"{key}\">{word}</rs>'\n",
        "              file.write(new+' ')\n",
        "              flag = 1\n",
        "              break\n",
        "        if flag == 0:\n",
        "          file.write(word+' ')\n",
        "      file.write('\\n')"
      ],
      "metadata": {
        "id": "Gzambl-v-oM0"
      },
      "execution_count": null,
      "outputs": []
    }
  ]
}