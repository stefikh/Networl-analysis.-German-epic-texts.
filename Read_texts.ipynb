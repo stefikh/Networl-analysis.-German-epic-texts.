{
  "cells": [
    {
      "cell_type": "code",
      "execution_count": null,
      "id": "bbc44aa5",
      "metadata": {
        "colab": {
          "base_uri": "https://localhost:8080/"
        },
        "id": "bbc44aa5",
        "outputId": "ab9aa0dd-eea7-450b-ab4b-d7bbf865217d"
      },
      "outputs": [
        {
          "output_type": "stream",
          "name": "stdout",
          "text": [
            "Collecting PyPDF2\n",
            "  Downloading pypdf2-3.0.1-py3-none-any.whl (232 kB)\n",
            "\u001b[?25l     \u001b[90m━━━━━━━━━━━━━━━━━━━━━━━━━━━━━━━━━━━━━━━━\u001b[0m \u001b[32m0.0/232.6 kB\u001b[0m \u001b[31m?\u001b[0m eta \u001b[36m-:--:--\u001b[0m\r\u001b[2K     \u001b[91m━━━━━━━━━━━━━━\u001b[0m\u001b[90m╺\u001b[0m\u001b[90m━━━━━━━━━━━━━━━━━━━━━━━━━\u001b[0m \u001b[32m81.9/232.6 kB\u001b[0m \u001b[31m2.4 MB/s\u001b[0m eta \u001b[36m0:00:01\u001b[0m\r\u001b[2K     \u001b[90m━━━━━━━━━━━━━━━━━━━━━━━━━━━━━━━━━━━━━━━━\u001b[0m \u001b[32m232.6/232.6 kB\u001b[0m \u001b[31m3.5 MB/s\u001b[0m eta \u001b[36m0:00:00\u001b[0m\n",
            "\u001b[?25hInstalling collected packages: PyPDF2\n",
            "Successfully installed PyPDF2-3.0.1\n"
          ]
        }
      ],
      "source": [
        "! pip install PyPDF2"
      ]
    },
    {
      "cell_type": "code",
      "execution_count": null,
      "id": "709e092f",
      "metadata": {
        "scrolled": true,
        "colab": {
          "base_uri": "https://localhost:8080/"
        },
        "id": "709e092f",
        "outputId": "2e2a4c65-d6fa-40e5-b60b-ae67e1b5095d"
      },
      "outputs": [
        {
          "output_type": "stream",
          "name": "stdout",
          "text": [
            "Collecting pdf2image\n",
            "  Downloading pdf2image-1.17.0-py3-none-any.whl (11 kB)\n",
            "Requirement already satisfied: pillow in /usr/local/lib/python3.10/dist-packages (from pdf2image) (9.4.0)\n",
            "Installing collected packages: pdf2image\n",
            "Successfully installed pdf2image-1.17.0\n"
          ]
        }
      ],
      "source": [
        "! pip install pdf2image"
      ]
    },
    {
      "cell_type": "code",
      "execution_count": null,
      "id": "7eee1bc8",
      "metadata": {
        "colab": {
          "base_uri": "https://localhost:8080/"
        },
        "id": "7eee1bc8",
        "outputId": "784502a8-e668-4fb8-b2bd-4b1a479ab1b0"
      },
      "outputs": [
        {
          "output_type": "stream",
          "name": "stdout",
          "text": [
            "Reading package lists... Done\n",
            "Building dependency tree... Done\n",
            "Reading state information... Done\n",
            "The following additional packages will be installed:\n",
            "  tesseract-ocr-eng tesseract-ocr-osd\n",
            "The following NEW packages will be installed:\n",
            "  tesseract-ocr tesseract-ocr-eng tesseract-ocr-osd\n",
            "0 upgraded, 3 newly installed, 0 to remove and 45 not upgraded.\n",
            "Need to get 4,816 kB of archives.\n",
            "After this operation, 15.6 MB of additional disk space will be used.\n",
            "Get:1 http://archive.ubuntu.com/ubuntu jammy/universe amd64 tesseract-ocr-eng all 1:4.00~git30-7274cfa-1.1 [1,591 kB]\n",
            "Get:2 http://archive.ubuntu.com/ubuntu jammy/universe amd64 tesseract-ocr-osd all 1:4.00~git30-7274cfa-1.1 [2,990 kB]\n",
            "Get:3 http://archive.ubuntu.com/ubuntu jammy/universe amd64 tesseract-ocr amd64 4.1.1-2.1build1 [236 kB]\n",
            "Fetched 4,816 kB in 0s (10.9 MB/s)\n",
            "debconf: unable to initialize frontend: Dialog\n",
            "debconf: (No usable dialog-like program is installed, so the dialog based frontend cannot be used. at /usr/share/perl5/Debconf/FrontEnd/Dialog.pm line 78, <> line 3.)\n",
            "debconf: falling back to frontend: Readline\n",
            "debconf: unable to initialize frontend: Readline\n",
            "debconf: (This frontend requires a controlling tty.)\n",
            "debconf: falling back to frontend: Teletype\n",
            "dpkg-preconfigure: unable to re-open stdin: \n",
            "Selecting previously unselected package tesseract-ocr-eng.\n",
            "(Reading database ... 121918 files and directories currently installed.)\n",
            "Preparing to unpack .../tesseract-ocr-eng_1%3a4.00~git30-7274cfa-1.1_all.deb ...\n",
            "Unpacking tesseract-ocr-eng (1:4.00~git30-7274cfa-1.1) ...\n",
            "Selecting previously unselected package tesseract-ocr-osd.\n",
            "Preparing to unpack .../tesseract-ocr-osd_1%3a4.00~git30-7274cfa-1.1_all.deb ...\n",
            "Unpacking tesseract-ocr-osd (1:4.00~git30-7274cfa-1.1) ...\n",
            "Selecting previously unselected package tesseract-ocr.\n",
            "Preparing to unpack .../tesseract-ocr_4.1.1-2.1build1_amd64.deb ...\n",
            "Unpacking tesseract-ocr (4.1.1-2.1build1) ...\n",
            "Setting up tesseract-ocr-eng (1:4.00~git30-7274cfa-1.1) ...\n",
            "Setting up tesseract-ocr-osd (1:4.00~git30-7274cfa-1.1) ...\n",
            "Setting up tesseract-ocr (4.1.1-2.1build1) ...\n",
            "Processing triggers for man-db (2.10.2-1) ...\n",
            "Collecting pytesseract\n",
            "  Downloading pytesseract-0.3.10-py3-none-any.whl (14 kB)\n",
            "Requirement already satisfied: packaging>=21.3 in /usr/local/lib/python3.10/dist-packages (from pytesseract) (24.0)\n",
            "Requirement already satisfied: Pillow>=8.0.0 in /usr/local/lib/python3.10/dist-packages (from pytesseract) (9.4.0)\n",
            "Installing collected packages: pytesseract\n",
            "Successfully installed pytesseract-0.3.10\n"
          ]
        }
      ],
      "source": [
        "! sudo apt install tesseract-ocr\n",
        "! pip install pytesseract"
      ]
    },
    {
      "cell_type": "code",
      "execution_count": null,
      "id": "5a8248f7",
      "metadata": {
        "colab": {
          "base_uri": "https://localhost:8080/"
        },
        "id": "5a8248f7",
        "outputId": "fdf950bb-2ca2-4309-9b38-8f27696407a0"
      },
      "outputs": [
        {
          "output_type": "stream",
          "name": "stdout",
          "text": [
            "Reading package lists... Done\n",
            "Building dependency tree... Done\n",
            "Reading state information... Done\n",
            "The following NEW packages will be installed:\n",
            "  poppler-utils\n",
            "0 upgraded, 1 newly installed, 0 to remove and 45 not upgraded.\n",
            "Need to get 186 kB of archives.\n",
            "After this operation, 696 kB of additional disk space will be used.\n",
            "Get:1 http://archive.ubuntu.com/ubuntu jammy-updates/main amd64 poppler-utils amd64 22.02.0-2ubuntu0.4 [186 kB]\n",
            "Fetched 186 kB in 0s (1,253 kB/s)\n",
            "Selecting previously unselected package poppler-utils.\n",
            "(Reading database ... 121965 files and directories currently installed.)\n",
            "Preparing to unpack .../poppler-utils_22.02.0-2ubuntu0.4_amd64.deb ...\n",
            "Unpacking poppler-utils (22.02.0-2ubuntu0.4) ...\n",
            "Setting up poppler-utils (22.02.0-2ubuntu0.4) ...\n",
            "Processing triggers for man-db (2.10.2-1) ...\n"
          ]
        }
      ],
      "source": [
        "!apt-get install poppler-utils  #для google colab"
      ]
    },
    {
      "cell_type": "code",
      "source": [
        "! pip install pdfminer.six"
      ],
      "metadata": {
        "colab": {
          "base_uri": "https://localhost:8080/"
        },
        "id": "pv1oxuFkEYwj",
        "outputId": "b2fbaba4-a9d2-467a-d1d0-394940d2f5d9"
      },
      "id": "pv1oxuFkEYwj",
      "execution_count": null,
      "outputs": [
        {
          "output_type": "stream",
          "name": "stdout",
          "text": [
            "Collecting pdfminer.six\n",
            "  Downloading pdfminer.six-20231228-py3-none-any.whl (5.6 MB)\n",
            "\u001b[2K     \u001b[90m━━━━━━━━━━━━━━━━━━━━━━━━━━━━━━━━━━━━━━━━\u001b[0m \u001b[32m5.6/5.6 MB\u001b[0m \u001b[31m14.8 MB/s\u001b[0m eta \u001b[36m0:00:00\u001b[0m\n",
            "\u001b[?25hRequirement already satisfied: charset-normalizer>=2.0.0 in /usr/local/lib/python3.10/dist-packages (from pdfminer.six) (3.3.2)\n",
            "Requirement already satisfied: cryptography>=36.0.0 in /usr/local/lib/python3.10/dist-packages (from pdfminer.six) (42.0.7)\n",
            "Requirement already satisfied: cffi>=1.12 in /usr/local/lib/python3.10/dist-packages (from cryptography>=36.0.0->pdfminer.six) (1.16.0)\n",
            "Requirement already satisfied: pycparser in /usr/local/lib/python3.10/dist-packages (from cffi>=1.12->cryptography>=36.0.0->pdfminer.six) (2.22)\n",
            "Installing collected packages: pdfminer.six\n",
            "Successfully installed pdfminer.six-20231228\n"
          ]
        }
      ]
    },
    {
      "cell_type": "code",
      "execution_count": null,
      "id": "5a99d641",
      "metadata": {
        "id": "5a99d641"
      },
      "outputs": [],
      "source": [
        "import PyPDF2\n",
        "from pdfminer.high_level import extract_pages, extract_text\n",
        "from pdfminer.layout import LTTextContainer, LTChar, LTRect, LTFigure\n",
        "from PIL import Image\n",
        "from pdf2image import convert_from_path\n",
        "import pytesseract\n",
        "import os"
      ]
    },
    {
      "cell_type": "code",
      "source": [
        "from tqdm import tqdm"
      ],
      "metadata": {
        "id": "Z8iHCtNMMsmf"
      },
      "id": "Z8iHCtNMMsmf",
      "execution_count": null,
      "outputs": []
    },
    {
      "cell_type": "markdown",
      "source": [
        "Следующие функции выполняют прочтения pdf файла и картинок, если не распознаётся текст"
      ],
      "metadata": {
        "id": "yMTCOjhtzBc_"
      },
      "id": "yMTCOjhtzBc_"
    },
    {
      "cell_type": "code",
      "execution_count": null,
      "id": "95b5bea2",
      "metadata": {
        "id": "95b5bea2"
      },
      "outputs": [],
      "source": [
        "def text_extraction(element):\n",
        "    line_text = element.get_text()\n",
        "\n",
        "    line_formats = []\n",
        "    for text_line in element:\n",
        "        if isinstance(text_line, LTTextContainer):\n",
        "            for character in text_line:\n",
        "                if isinstance(character, LTChar):\n",
        "                    line_formats.append(character.fontname)\n",
        "                    line_formats.append(character.size)\n",
        "    format_per_line = list(set(line_formats))\n",
        "\n",
        "    return (line_text, format_per_line)"
      ]
    },
    {
      "cell_type": "code",
      "execution_count": null,
      "id": "9729eaad",
      "metadata": {
        "id": "9729eaad"
      },
      "outputs": [],
      "source": [
        "def crop_image(element, pageObj):\n",
        "    [image_left, image_top, image_right, image_bottom] = [element.x0,element.y0,element.x1,element.y1]\n",
        "    pageObj.mediabox.lower_left = (image_left, image_bottom)\n",
        "    pageObj.mediabox.upper_right = (image_right, image_top)\n",
        "    cropped_pdf_writer = PyPDF2.PdfWriter()\n",
        "    cropped_pdf_writer.add_page(pageObj)\n",
        "    with open('cropped_image.pdf', 'wb') as cropped_pdf_file:\n",
        "        cropped_pdf_writer.write(cropped_pdf_file)\n",
        "\n",
        "def convert_to_images(input_file,):\n",
        "    images = convert_from_path(input_file)\n",
        "    image = images[0]\n",
        "    output_file = 'PDF_image.png'\n",
        "    image.save(output_file, 'PNG')\n",
        "\n",
        "def image_to_text(image_path):\n",
        "    img = Image.open(image_path)\n",
        "    text = pytesseract.image_to_string(img)\n",
        "    return text"
      ]
    },
    {
      "cell_type": "code",
      "execution_count": null,
      "id": "4349a3bc",
      "metadata": {
        "id": "4349a3bc"
      },
      "outputs": [],
      "source": [
        "def read_text_pdf(pdf_path):\n",
        "\n",
        "    pdfFileObj = open(pdf_path, 'rb')\n",
        "    pdfReaded = PyPDF2.PdfReader(pdfFileObj)\n",
        "    text_per_page = {}\n",
        "    image_flag = False\n",
        "\n",
        "    for pagenum, page in tqdm(enumerate(extract_pages(pdf_path))):\n",
        "\n",
        "        pageObj = pdfReaded.pages[pagenum]\n",
        "        page_text = []\n",
        "        line_format = []\n",
        "        page_content = []\n",
        "        text_from_images = []\n",
        "\n",
        "        page_elements = [(element.y1, element) for element in page._objs]\n",
        "        page_elements.sort(key=lambda a: a[0], reverse=True)\n",
        "\n",
        "        for i,component in enumerate(page_elements):\n",
        "                element = component[1]\n",
        "\n",
        "                if isinstance(element, LTTextContainer):\n",
        "                    (line_text, format_per_line) = text_extraction(element)\n",
        "                    page_text.append(line_text)\n",
        "                    line_format.append(format_per_line)\n",
        "                    page_content.append(line_text)\n",
        "\n",
        "                if isinstance(element, LTFigure):\n",
        "                    crop_image(element, pageObj)\n",
        "                    convert_to_images('cropped_image.pdf')\n",
        "                    image_text = image_to_text('PDF_image.png')\n",
        "                    text_from_images.append(image_text)\n",
        "                    page_content.append(image_text)\n",
        "                    page_text.append('image')\n",
        "                    line_format.append('image')\n",
        "                    image_flag = True\n",
        "\n",
        "        dctkey = 'Page_'+str(pagenum)\n",
        "        text_per_page[dctkey]= [page_text, line_format, page_content]\n",
        "\n",
        "    pdfFileObj.close()\n",
        "    if image_flag:\n",
        "        os.remove('cropped_image.pdf')\n",
        "        os.remove('PDF_image.png')\n",
        "\n",
        "    return text_per_page"
      ]
    },
    {
      "cell_type": "markdown",
      "id": "e7fb9f5b",
      "metadata": {
        "id": "e7fb9f5b"
      },
      "source": [
        "Получается словарь, где ключи — страницы, а значения — текст на странице."
      ]
    },
    {
      "cell_type": "code",
      "execution_count": null,
      "id": "9ec51635",
      "metadata": {
        "id": "9ec51635"
      },
      "outputs": [],
      "source": [
        "pdf_path = 'Alpharts Tod. Dietrich und Wenezlan только текст.pdf'"
      ]
    },
    {
      "cell_type": "code",
      "execution_count": null,
      "id": "ac42946d",
      "metadata": {
        "colab": {
          "base_uri": "https://localhost:8080/"
        },
        "id": "ac42946d",
        "outputId": "4af4cc2f-ffe1-4262-f17a-59ba4ecdf997"
      },
      "outputs": [
        {
          "output_type": "stream",
          "name": "stderr",
          "text": [
            "84it [00:07, 11.40it/s]\n"
          ]
        }
      ],
      "source": [
        "text = read_text_pdf(pdf_path)"
      ]
    },
    {
      "cell_type": "code",
      "source": [
        "import re"
      ],
      "metadata": {
        "id": "bA8Q9Un5h50N"
      },
      "id": "bA8Q9Un5h50N",
      "execution_count": null,
      "outputs": []
    },
    {
      "cell_type": "markdown",
      "source": [
        "В последующей функции убираются примечания к тексту в самом конце строки, номера страниц вверху. Также с помощью регулярных выражений заменяется строчки спропусками на соседние из левой колонки. Последнее характерно для произведения Dietrich und Wenezlan"
      ],
      "metadata": {
        "id": "uA3km8TDzOVx"
      },
      "id": "uA3km8TDzOVx"
    },
    {
      "cell_type": "code",
      "source": [
        "name = 'Alpharts Tod.txt'"
      ],
      "metadata": {
        "id": "xAGbg8344UC4"
      },
      "id": "xAGbg8344UC4",
      "execution_count": null,
      "outputs": []
    },
    {
      "cell_type": "code",
      "source": [
        "with open(name, 'a') as f:\n",
        "  for blok in text:\n",
        "    if blok == 'Page_65':\n",
        "      break\n",
        "    else:\n",
        "        for stroka in text[blok][0]:\n",
        "          stroka = stroka.replace('Æ', '(')\n",
        "          stroka = stroka.replace('æ', ')')\n",
        "          if not any(ch.isdigit() for ch in stroka) and stroka != '‹Alpharts Tod›\\n':\n",
        "            f.write(stroka)\n",
        "    f.write('\\n')"
      ],
      "metadata": {
        "id": "dhKdb5SghHur"
      },
      "id": "dhKdb5SghHur",
      "execution_count": null,
      "outputs": []
    },
    {
      "cell_type": "code",
      "source": [
        "with open(name, 'a') as f:\n",
        "  for blok in text:\n",
        "    if blok[-2] != '_':\n",
        "      if int(blok[-2:]) > 64:\n",
        "        stroka_or = []\n",
        "        stroka_predp = []\n",
        "        final_stroki = []\n",
        "        for stroka in text[blok][0]:\n",
        "          stroka = stroka.replace('Æ', '(')\n",
        "          stroka = stroka.replace('æ\\n', ')\\n')\n",
        "          stroka = stroka.replace('æ»', ')»')\n",
        "          stroka = stroka.replace('æ,', '),')\n",
        "          stroka = stroka.replace('æ.', ').')\n",
        "          stroka = stroka.replace('æ!', ')!')\n",
        "          stroka = stroka.replace('æ?', ')?')\n",
        "          if not any(ch.isdigit() for ch in stroka) and stroka != '‹Dietrich und Wenezlan›\\n':\n",
        "            if 'Zp)' in stroka or '(G)' in stroka:\n",
        "              stroka_predp.append(stroka)\n",
        "            else:\n",
        "              stroka_or.append(stroka)\n",
        "\n",
        "        for element in stroka_or[0].split('\\n'):\n",
        "          flag = 0\n",
        "          if element != '':\n",
        "            for element_2 in stroka_predp:\n",
        "\n",
        "              if element[1:8] in element_2:\n",
        "                flag = 1\n",
        "                s = re.sub('\\([^)]*\\)', '', element_2)\n",
        "                f.write(s)\n",
        "\n",
        "          if '(…)' not in element and flag != 1:\n",
        "              s2 = element.replace('(', '')\n",
        "              s2 = s2.replace(')', '')\n",
        "              f.write(s2)\n",
        "          elif '(…)' in element and flag != 1:\n",
        "            f.write(element)\n",
        "        f.write('\\n')"
      ],
      "metadata": {
        "id": "TTfHg2OSAPdQ"
      },
      "id": "TTfHg2OSAPdQ",
      "execution_count": null,
      "outputs": []
    }
  ],
  "metadata": {
    "kernelspec": {
      "display_name": "Python 3 (ipykernel)",
      "language": "python",
      "name": "python3"
    },
    "language_info": {
      "codemirror_mode": {
        "name": "ipython",
        "version": 3
      },
      "file_extension": ".py",
      "mimetype": "text/x-python",
      "name": "python",
      "nbconvert_exporter": "python",
      "pygments_lexer": "ipython3",
      "version": "3.9.13"
    },
    "colab": {
      "provenance": []
    }
  },
  "nbformat": 4,
  "nbformat_minor": 5
}