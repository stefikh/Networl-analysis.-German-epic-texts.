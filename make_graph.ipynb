{
  "nbformat": 4,
  "nbformat_minor": 0,
  "metadata": {
    "colab": {
      "provenance": []
    },
    "kernelspec": {
      "name": "python3",
      "display_name": "Python 3"
    },
    "language_info": {
      "name": "python"
    }
  },
  "cells": [
    {
      "cell_type": "code",
      "source": [
        "from bs4 import BeautifulSoup\n",
        "import re\n",
        "from collections import Counter"
      ],
      "metadata": {
        "id": "FYtc_Wxcm96V"
      },
      "execution_count": null,
      "outputs": []
    },
    {
      "cell_type": "code",
      "source": [
        "with open('Nibelungenlied_A_TEI.txt', 'r') as f:\n",
        "  text = f.read()"
      ],
      "metadata": {
        "id": "cxwvjBK4ea68"
      },
      "execution_count": null,
      "outputs": []
    },
    {
      "cell_type": "code",
      "source": [
        "def find_characters(text):\n",
        "  soup = BeautifulSoup(text, 'lxml')\n",
        "  characters_in_part = []\n",
        "  for character in soup.find_all('rs'):\n",
        "    characters_in_part.append(character.attrs['ref'])\n",
        "\n",
        "  return characters_in_part"
      ],
      "metadata": {
        "id": "Kh62W5LK5qkx"
      },
      "execution_count": null,
      "outputs": []
    },
    {
      "cell_type": "code",
      "source": [
        "def clean_text_part(text):\n",
        "  text = re.sub(r'[.,!?\\-]', '', text)\n",
        "  clean_original_name = re.sub(r'(<rs[^>]*>)(.*?)(</rs>)', r'\\1\\3', text)\n",
        "  clean_from_tags = clean_original_name.replace('<rs ref=\"', '')\n",
        "  clean_from_tags = clean_from_tags.replace('\"></rs>', '')\n",
        "\n",
        "  return clean_from_tags"
      ],
      "metadata": {
        "id": "f3-r85Ur3j6B"
      },
      "execution_count": null,
      "outputs": []
    },
    {
      "cell_type": "code",
      "source": [
        "def pairs_in_part(text):\n",
        "\n",
        "  text_clean = clean_text_part(text).split()\n",
        "  characters = find_characters(text)\n",
        "\n",
        "  pairs = []\n",
        "  for i in range(len(text_clean)):\n",
        "    if text_clean[i] in characters:\n",
        "      window = text_clean[i+1:min(i+20, len(text_clean))] #чтобы не переваливало за границу части, если окно будет больше\n",
        "      for element in window:\n",
        "        if element in characters and element != text_clean[i]:\n",
        "          pair = min(text_clean[i], element) + '_' + max(text_clean[i], element)\n",
        "          pairs.append(pair)\n",
        "\n",
        "  return pairs"
      ],
      "metadata": {
        "id": "9E8715B647zA"
      },
      "execution_count": null,
      "outputs": []
    },
    {
      "cell_type": "code",
      "source": [
        "text_parts = text.split('———————————')"
      ],
      "metadata": {
        "id": "0e4Mv3lgDyS5"
      },
      "execution_count": null,
      "outputs": []
    },
    {
      "cell_type": "code",
      "source": [
        "all_pairs = []"
      ],
      "metadata": {
        "id": "xFGF77x9EpSx"
      },
      "execution_count": null,
      "outputs": []
    },
    {
      "cell_type": "code",
      "source": [
        "for element in text_parts:\n",
        "  all_pairs = all_pairs + pairs_in_part(element)"
      ],
      "metadata": {
        "id": "79UAiOpxD7qI"
      },
      "execution_count": null,
      "outputs": []
    },
    {
      "cell_type": "code",
      "source": [
        "counts = Counter(all_pairs)"
      ],
      "metadata": {
        "id": "BQrN1YzT-IpR"
      },
      "execution_count": null,
      "outputs": []
    },
    {
      "cell_type": "code",
      "source": [
        "def write_result(counts, filename):\n",
        "    csv = 'Source,Target,Weight' + '\\n'\n",
        "\n",
        "    for count in counts:\n",
        "        if counts[count] >= 2:\n",
        "            word1 = count.split('_')[0]\n",
        "            word2 = count.split('_')[1]\n",
        "            weight = str(counts[count])\n",
        "            csv += word1 + ',' + word2 + ',' + weight + '\\n'\n",
        "\n",
        "    with open(filename, 'w') as f:\n",
        "        f.write(csv)"
      ],
      "metadata": {
        "id": "ZGStiFA7fEhp"
      },
      "execution_count": null,
      "outputs": []
    },
    {
      "cell_type": "code",
      "source": [
        "write_result(counts, 'ner_graph_nieb_A.csv')"
      ],
      "metadata": {
        "id": "IuTGXeeRfF8R"
      },
      "execution_count": null,
      "outputs": []
    }
  ]
}